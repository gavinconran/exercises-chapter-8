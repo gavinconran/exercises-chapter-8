{
  "nbformat": 4,
  "nbformat_minor": 0,
  "metadata": {
    "colab": {
      "provenance": []
    },
    "kernelspec": {
      "name": "python3",
      "display_name": "Python 3"
    },
    "language_info": {
      "name": "python"
    }
  },
  "cells": [
    {
      "cell_type": "markdown",
      "source": [
        "##Command line debugger"
      ],
      "metadata": {
        "id": "s8ynqo3z-rIm"
      }
    },
    {
      "cell_type": "code",
      "source": [
        "%reset -f"
      ],
      "metadata": {
        "id": "LOv3isiodEub"
      },
      "execution_count": 31,
      "outputs": []
    },
    {
      "cell_type": "markdown",
      "source": [
        "###clone GitHub repo"
      ],
      "metadata": {
        "id": "i8xlf-zPOpVe"
      }
    },
    {
      "cell_type": "code",
      "source": [
        "!git config --global user.email \"gtconran@gmail.com\""
      ],
      "metadata": {
        "id": "dXc7lsPLQlxb"
      },
      "execution_count": 32,
      "outputs": []
    },
    {
      "cell_type": "code",
      "source": [
        "!git config --global user.name \"gavinconran\""
      ],
      "metadata": {
        "id": "n5zxGIvPQtRL"
      },
      "execution_count": 33,
      "outputs": []
    },
    {
      "cell_type": "code",
      "source": [
        "!git clone https://github.com/gavinconran/exercises-chapter-8.git"
      ],
      "metadata": {
        "colab": {
          "base_uri": "https://localhost:8080/"
        },
        "id": "Mgv9FvxOOs0N",
        "outputId": "8f05261b-837e-4cca-8db2-73bd54e1484b"
      },
      "execution_count": 35,
      "outputs": [
        {
          "output_type": "stream",
          "name": "stdout",
          "text": [
            "fatal: destination path 'exercises-chapter-8' already exists and is not an empty directory.\n"
          ]
        }
      ]
    },
    {
      "cell_type": "code",
      "source": [
        "#%cd ./exercises-chapter-8\n",
        "%pwd"
      ],
      "metadata": {
        "colab": {
          "base_uri": "https://localhost:8080/",
          "height": 36
        },
        "id": "uNgQisimO-kq",
        "outputId": "8ced0122-64a2-4102-8c31-b074a95ebb26"
      },
      "execution_count": 36,
      "outputs": [
        {
          "output_type": "execute_result",
          "data": {
            "text/plain": [
              "'/content/exercises-chapter-8'"
            ],
            "application/vnd.google.colaboratory.intrinsic+json": {
              "type": "string"
            }
          },
          "metadata": {},
          "execution_count": 36
        }
      ]
    },
    {
      "cell_type": "markdown",
      "source": [
        "### Install home-made packages from cloned repo"
      ],
      "metadata": {
        "id": "-qShO-nQcgKP"
      }
    },
    {
      "cell_type": "code",
      "source": [
        "!python -m pip install -e ."
      ],
      "metadata": {
        "colab": {
          "base_uri": "https://localhost:8080/"
        },
        "id": "Habpi_oLaEFR",
        "outputId": "bb814b91-4a60-4d48-c44b-9e83b9c7d7e2"
      },
      "execution_count": 37,
      "outputs": [
        {
          "output_type": "stream",
          "name": "stdout",
          "text": [
            "Obtaining file:///content/exercises-chapter-8\n",
            "  Installing build dependencies ... \u001b[?25l\u001b[?25hdone\n",
            "  Checking if build backend supports build_editable ... \u001b[?25l\u001b[?25hdone\n",
            "  Getting requirements to build editable ... \u001b[?25l\u001b[?25hdone\n",
            "  Installing backend dependencies ... \u001b[?25l\u001b[?25hdone\n",
            "  Preparing editable metadata (pyproject.toml) ... \u001b[?25l\u001b[?25hdone\n",
            "Requirement already satisfied: numpy in /usr/local/lib/python3.10/dist-packages (from chapter-8==0.1) (1.26.4)\n",
            "Building wheels for collected packages: chapter-8\n",
            "  Building editable for chapter-8 (pyproject.toml) ... \u001b[?25l\u001b[?25hdone\n",
            "  Created wheel for chapter-8: filename=chapter_8-0.1-py2.py3-none-any.whl size=1012 sha256=62e6ac2f347d3b65adff46af8b46926bbcbf5b2becc886e2357ecd12eaf66ee5\n",
            "  Stored in directory: /tmp/pip-ephem-wheel-cache-t3_o8kqe/wheels/20/e6/56/85ca024bd24b337364abe8caf0f5b438b548eb3fc408eb8a4b\n",
            "Successfully built chapter-8\n",
            "Installing collected packages: chapter-8\n",
            "  Attempting uninstall: chapter-8\n",
            "    Found existing installation: chapter-8 0.1\n",
            "    Uninstalling chapter-8-0.1:\n",
            "      Successfully uninstalled chapter-8-0.1\n",
            "Successfully installed chapter-8-0.1\n"
          ]
        }
      ]
    },
    {
      "cell_type": "markdown",
      "source": [
        "###install ipdb and pytest"
      ],
      "metadata": {
        "id": "u_CxDBs1PMoo"
      }
    },
    {
      "cell_type": "code",
      "source": [
        "!pip install ipdb"
      ],
      "metadata": {
        "colab": {
          "base_uri": "https://localhost:8080/"
        },
        "outputId": "dda490b0-c33c-4c81-ccf5-54ea372552ef",
        "id": "IQwllTshbGW7"
      },
      "execution_count": 38,
      "outputs": [
        {
          "output_type": "stream",
          "name": "stdout",
          "text": [
            "Requirement already satisfied: ipdb in /usr/local/lib/python3.10/dist-packages (0.13.13)\n",
            "Requirement already satisfied: ipython>=7.31.1 in /usr/local/lib/python3.10/dist-packages (from ipdb) (7.34.0)\n",
            "Requirement already satisfied: tomli in /usr/local/lib/python3.10/dist-packages (from ipdb) (2.2.1)\n",
            "Requirement already satisfied: decorator in /usr/local/lib/python3.10/dist-packages (from ipdb) (4.4.2)\n",
            "Requirement already satisfied: setuptools>=18.5 in /usr/local/lib/python3.10/dist-packages (from ipython>=7.31.1->ipdb) (75.1.0)\n",
            "Requirement already satisfied: jedi>=0.16 in /usr/local/lib/python3.10/dist-packages (from ipython>=7.31.1->ipdb) (0.19.2)\n",
            "Requirement already satisfied: pickleshare in /usr/local/lib/python3.10/dist-packages (from ipython>=7.31.1->ipdb) (0.7.5)\n",
            "Requirement already satisfied: traitlets>=4.2 in /usr/local/lib/python3.10/dist-packages (from ipython>=7.31.1->ipdb) (5.7.1)\n",
            "Requirement already satisfied: prompt-toolkit!=3.0.0,!=3.0.1,<3.1.0,>=2.0.0 in /usr/local/lib/python3.10/dist-packages (from ipython>=7.31.1->ipdb) (3.0.48)\n",
            "Requirement already satisfied: pygments in /usr/local/lib/python3.10/dist-packages (from ipython>=7.31.1->ipdb) (2.18.0)\n",
            "Requirement already satisfied: backcall in /usr/local/lib/python3.10/dist-packages (from ipython>=7.31.1->ipdb) (0.2.0)\n",
            "Requirement already satisfied: matplotlib-inline in /usr/local/lib/python3.10/dist-packages (from ipython>=7.31.1->ipdb) (0.1.7)\n",
            "Requirement already satisfied: pexpect>4.3 in /usr/local/lib/python3.10/dist-packages (from ipython>=7.31.1->ipdb) (4.9.0)\n",
            "Requirement already satisfied: parso<0.9.0,>=0.8.4 in /usr/local/lib/python3.10/dist-packages (from jedi>=0.16->ipython>=7.31.1->ipdb) (0.8.4)\n",
            "Requirement already satisfied: ptyprocess>=0.5 in /usr/local/lib/python3.10/dist-packages (from pexpect>4.3->ipython>=7.31.1->ipdb) (0.7.0)\n",
            "Requirement already satisfied: wcwidth in /usr/local/lib/python3.10/dist-packages (from prompt-toolkit!=3.0.0,!=3.0.1,<3.1.0,>=2.0.0->ipython>=7.31.1->ipdb) (0.2.13)\n"
          ]
        }
      ]
    },
    {
      "cell_type": "code",
      "source": [
        "!python -m pytest -s --pdb tests/test_mfe.py"
      ],
      "metadata": {
        "colab": {
          "base_uri": "https://localhost:8080/"
        },
        "outputId": "2d16bc4d-adbc-4520-c8ae-8c93a4058cc3",
        "id": "uqxi0bnMHaHX"
      },
      "execution_count": 39,
      "outputs": [
        {
          "output_type": "stream",
          "name": "stdout",
          "text": [
            "\u001b[1m======================================= test session starts ========================================\u001b[0m\n",
            "platform linux -- Python 3.10.12, pytest-8.3.4, pluggy-1.5.0\n",
            "rootdir: /content/exercises-chapter-8\n",
            "configfile: setup.cfg\n",
            "plugins: anyio-3.7.1, typeguard-4.4.1\n",
            "\u001b[1mcollecting ... \u001b[0m\u001b[1m\rcollected 2 items                                                                                  \u001b[0m\n",
            "\n",
            "tests/test_mfe.py \u001b[32m.\u001b[0m\u001b[32m.\u001b[0m\n",
            "\n",
            "\u001b[32m======================================== \u001b[32m\u001b[1m2 passed\u001b[0m\u001b[32m in 0.02s\u001b[0m\u001b[32m =========================================\u001b[0m\n"
          ]
        }
      ]
    },
    {
      "cell_type": "markdown",
      "source": [
        "## call debugger from within a failed pytest"
      ],
      "metadata": {
        "id": "Io87qrZ7JF7x"
      }
    },
    {
      "cell_type": "code",
      "source": [
        "!python -m pytest -s --pdb -x tests/"
      ],
      "metadata": {
        "colab": {
          "base_uri": "https://localhost:8080/"
        },
        "id": "x57qPkCNJLCQ",
        "outputId": "279d8f41-fbcd-405b-bada-edba6c738216"
      },
      "execution_count": 40,
      "outputs": [
        {
          "output_type": "stream",
          "name": "stdout",
          "text": [
            "\u001b[1m======================================= test session starts ========================================\u001b[0m\n",
            "platform linux -- Python 3.10.12, pytest-8.3.4, pluggy-1.5.0\n",
            "rootdir: /content/exercises-chapter-8\n",
            "configfile: setup.cfg\n",
            "plugins: anyio-3.7.1, typeguard-4.4.1\n",
            "\u001b[1mcollecting ... \u001b[0m\u001b[1m\rcollected 2 items                                                                                  \u001b[0m\n",
            "\n",
            "tests/test_mfe.py \u001b[32m.\u001b[0m\u001b[32m.\u001b[0m\n",
            "\n",
            "\u001b[32m======================================== \u001b[32m\u001b[1m2 passed\u001b[0m\u001b[32m in 0.01s\u001b[0m\u001b[32m =========================================\u001b[0m\n"
          ]
        }
      ]
    },
    {
      "cell_type": "markdown",
      "source": [
        "##add and commit changes"
      ],
      "metadata": {
        "id": "rpm3JCRlTP3Z"
      }
    },
    {
      "cell_type": "code",
      "source": [
        "!git status"
      ],
      "metadata": {
        "colab": {
          "base_uri": "https://localhost:8080/"
        },
        "id": "86t50VPlQP-H",
        "outputId": "ddc2016a-6f57-4441-f5c2-ad52f861fcee"
      },
      "execution_count": 42,
      "outputs": [
        {
          "output_type": "stream",
          "name": "stdout",
          "text": [
            "On branch main\n",
            "Your branch is ahead of 'origin/main' by 2 commits.\n",
            "  (use \"git push\" to publish your local commits)\n",
            "\n",
            "Changes not staged for commit:\n",
            "  (use \"git add <file>...\" to update what will be committed)\n",
            "  (use \"git restore <file>...\" to discard changes in working directory)\n",
            "\t\u001b[31mmodified:   scripts/tests_report_mfe.py\u001b[m\n",
            "\n",
            "no changes added to commit (use \"git add\" and/or \"git commit -a\")\n"
          ]
        }
      ]
    },
    {
      "cell_type": "code",
      "source": [
        "!git add ."
      ],
      "metadata": {
        "id": "QTnQO-lfQT9q"
      },
      "execution_count": 43,
      "outputs": []
    },
    {
      "cell_type": "code",
      "source": [
        "!git commit -m \"all tests pass with cloned repo on CoLab\""
      ],
      "metadata": {
        "colab": {
          "base_uri": "https://localhost:8080/"
        },
        "id": "wpcuFb9zQW40",
        "outputId": "356790fb-9ad3-4a62-e5b8-8d8ccfb9fd2f"
      },
      "execution_count": 44,
      "outputs": [
        {
          "output_type": "stream",
          "name": "stdout",
          "text": [
            "[main 7374394] all tests pass with cloned repo on CoLab\n",
            " 1 file changed, 1 insertion(+), 1 deletion(-)\n"
          ]
        }
      ]
    },
    {
      "cell_type": "markdown",
      "source": [
        "###push not working"
      ],
      "metadata": {
        "id": "-H7d9dtYWmbH"
      }
    },
    {
      "cell_type": "markdown",
      "source": [
        "!git push -u https://<gavinconran>:<ACCESS TOKEN GOES HERE>@<github.com/gavinconran/exercises-chapter-8.git> main"
      ],
      "metadata": {
        "id": "4D7yKGTDXZBF"
      }
    }
  ]
}